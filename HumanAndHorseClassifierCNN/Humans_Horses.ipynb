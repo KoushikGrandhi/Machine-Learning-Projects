{
  "nbformat": 4,
  "nbformat_minor": 0,
  "metadata": {
    "colab": {
      "name": "Humans_Horses.ipynb",
      "provenance": [],
      "collapsed_sections": []
    },
    "kernelspec": {
      "name": "python3",
      "display_name": "Python 3"
    },
    "accelerator": "GPU"
  },
  "cells": [
    {
      "cell_type": "code",
      "metadata": {
        "id": "0bEgYbDY_Mqd",
        "colab_type": "code",
        "colab": {}
      },
      "source": [
        "import os\n",
        "import zipfile\n",
        "\n",
        "local_zip = '/tmp/horse-or-human.zip'\n",
        "zip_ref = zipfile.ZipFile(local_zip, 'r')\n",
        "zip_ref.extractall('/tmp/horse-or-human')\n",
        "local_zip = '/tmp/validation-horse-or-human.zip'\n",
        "zip_ref = zipfile.ZipFile(local_zip, 'r')\n",
        "zip_ref.extractall('/tmp/validation-horse-or-human')\n",
        "zip_ref.close()"
      ],
      "execution_count": 63,
      "outputs": []
    },
    {
      "cell_type": "code",
      "metadata": {
        "id": "LptMu67CA5_b",
        "colab_type": "code",
        "colab": {}
      },
      "source": [
        "train_horse_dir = os.path.join('/tmp/horse-or-human/horses')\n",
        "\n",
        "train_human_dir = os.path.join('/tmp/horse-or-human/humans')\n",
        "\n",
        "test_horse_dir= os.path.join('/tmp/validation-horse-or-human/horses')\n",
        "test_human_dir= os.path.join('/tmp/validation-horse-or-human/humans')"
      ],
      "execution_count": 64,
      "outputs": []
    },
    {
      "cell_type": "code",
      "metadata": {
        "id": "k8OK_lqNCgbO",
        "colab_type": "code",
        "colab": {
          "base_uri": "https://localhost:8080/",
          "height": 72
        },
        "outputId": "b79f9cf1-fd65-45a0-fb50-971bb6a0fd03"
      },
      "source": [
        "train_horse_names = os.listdir(train_horse_dir)\n",
        "train_human_names = os.listdir(train_human_dir)\n",
        "\n",
        "validation_horse_hames = os.listdir(test_horse_dir)\n",
        "print(validation_horse_hames[:10])\n",
        "\n",
        "validation_human_names = os.listdir(test_human_dir)\n",
        "print(validation_human_names[:10])"
      ],
      "execution_count": 65,
      "outputs": [
        {
          "output_type": "stream",
          "text": [
            "['horse3-440.png', 'horse2-383.png', 'horse2-544.png', 'horse3-541.png', 'horse5-565.png', 'horse2-254.png', 'horse2-224.png', 'horse1-000.png', 'horse5-405.png', 'horse5-360.png']\n",
            "['valhuman04-13.png', 'valhuman01-23.png', 'valhuman05-19.png', 'valhuman04-17.png', 'valhuman01-14.png', 'valhuman04-08.png', 'valhuman01-12.png', 'valhuman01-02.png', 'valhuman02-18.png', 'valhuman02-24.png']\n"
          ],
          "name": "stdout"
        }
      ]
    },
    {
      "cell_type": "code",
      "metadata": {
        "id": "_sXJ3C5fCln8",
        "colab_type": "code",
        "colab": {
          "base_uri": "https://localhost:8080/",
          "height": 87
        },
        "outputId": "ee6cc9aa-5c5c-430e-aaef-5c1d48b5e050"
      },
      "source": [
        "print('total training horse images:', len(os.listdir(train_horse_dir)))\n",
        "print('total training human images:', len(os.listdir(train_human_dir)))\n",
        "print('total validation horse images:', len(os.listdir(test_horse_dir)))\n",
        "print('total validation human images:', len(os.listdir(test_human_dir)))"
      ],
      "execution_count": 66,
      "outputs": [
        {
          "output_type": "stream",
          "text": [
            "total training horse images: 500\n",
            "total training human images: 527\n",
            "total validation horse images: 128\n",
            "total validation human images: 128\n"
          ],
          "name": "stdout"
        }
      ]
    },
    {
      "cell_type": "markdown",
      "metadata": {
        "id": "10ciuKlbEvMZ",
        "colab_type": "text"
      },
      "source": [
        "Model\n",
        "\n"
      ]
    },
    {
      "cell_type": "code",
      "metadata": {
        "id": "GKtbX2iXC90P",
        "colab_type": "code",
        "colab": {}
      },
      "source": [
        "import tensorflow as tf"
      ],
      "execution_count": 67,
      "outputs": []
    },
    {
      "cell_type": "code",
      "metadata": {
        "id": "a3Y2kw_BFJ4F",
        "colab_type": "code",
        "colab": {}
      },
      "source": [
        "model = tf.keras.models.Sequential([\n",
        "   \n",
        "    tf.keras.layers.Conv2D(32, (3,3), activation='relu', input_shape=(128, 128, 3)),\n",
        "    tf.keras.layers.MaxPooling2D(2, 2),\n",
        "    tf.keras.layers.BatchNormalization(),\n",
        "\n",
        "    tf.keras.layers.Conv2D(32, (3,3), activation='relu'),\n",
        "    tf.keras.layers.MaxPooling2D(2,2),\n",
        "    tf.keras.layers.Conv2D(16, (3,3), activation='relu'),\n",
        "    tf.keras.layers.MaxPooling2D(2,2),\n",
        "  \n",
        "    tf.keras.layers.Conv2D(64, (3,3), activation='relu'),\n",
        "    tf.keras.layers.MaxPooling2D(2,2),\n",
        "  \n",
        "    tf.keras.layers.Conv2D(128, (5,5), activation='relu'),\n",
        "    tf.keras.layers.MaxPooling2D(2,2),\n",
        "\n",
        "    tf.keras.layers.Flatten(),\n",
        "\n",
        "    tf.keras.layers.Dense(64, activation='relu'),\n",
        "    tf.keras.layers.Dropout(0.3),\n",
        "  \n",
        "    tf.keras.layers.Dense(1, activation='sigmoid')\n",
        "])"
      ],
      "execution_count": 123,
      "outputs": []
    },
    {
      "cell_type": "code",
      "metadata": {
        "id": "KrBVEdkZGbL6",
        "colab_type": "code",
        "colab": {
          "base_uri": "https://localhost:8080/",
          "height": 692
        },
        "outputId": "d1175575-5a54-4c5e-bd46-0aa65056e69b"
      },
      "source": [
        "model.summary()"
      ],
      "execution_count": 139,
      "outputs": [
        {
          "output_type": "stream",
          "text": [
            "Model: \"sequential_15\"\n",
            "_________________________________________________________________\n",
            "Layer (type)                 Output Shape              Param #   \n",
            "=================================================================\n",
            "conv2d_70 (Conv2D)           (None, 126, 126, 32)      896       \n",
            "_________________________________________________________________\n",
            "max_pooling2d_70 (MaxPooling (None, 63, 63, 32)        0         \n",
            "_________________________________________________________________\n",
            "batch_normalization_13 (Batc (None, 63, 63, 32)        128       \n",
            "_________________________________________________________________\n",
            "conv2d_71 (Conv2D)           (None, 61, 61, 32)        9248      \n",
            "_________________________________________________________________\n",
            "max_pooling2d_71 (MaxPooling (None, 30, 30, 32)        0         \n",
            "_________________________________________________________________\n",
            "conv2d_72 (Conv2D)           (None, 28, 28, 16)        4624      \n",
            "_________________________________________________________________\n",
            "max_pooling2d_72 (MaxPooling (None, 14, 14, 16)        0         \n",
            "_________________________________________________________________\n",
            "conv2d_73 (Conv2D)           (None, 12, 12, 64)        9280      \n",
            "_________________________________________________________________\n",
            "max_pooling2d_73 (MaxPooling (None, 6, 6, 64)          0         \n",
            "_________________________________________________________________\n",
            "conv2d_74 (Conv2D)           (None, 2, 2, 128)         204928    \n",
            "_________________________________________________________________\n",
            "max_pooling2d_74 (MaxPooling (None, 1, 1, 128)         0         \n",
            "_________________________________________________________________\n",
            "flatten_15 (Flatten)         (None, 128)               0         \n",
            "_________________________________________________________________\n",
            "dense_30 (Dense)             (None, 64)                8256      \n",
            "_________________________________________________________________\n",
            "dropout_13 (Dropout)         (None, 64)                0         \n",
            "_________________________________________________________________\n",
            "dense_31 (Dense)             (None, 1)                 65        \n",
            "=================================================================\n",
            "Total params: 237,425\n",
            "Trainable params: 237,361\n",
            "Non-trainable params: 64\n",
            "_________________________________________________________________\n"
          ],
          "name": "stdout"
        }
      ]
    },
    {
      "cell_type": "code",
      "metadata": {
        "id": "jgCbrGJtGoIm",
        "colab_type": "code",
        "colab": {}
      },
      "source": [
        "model.compile(loss='binary_crossentropy',\n",
        "              optimizer=tf.keras.optimizers.Adam(),\n",
        "              metrics=['accuracy'])"
      ],
      "execution_count": 124,
      "outputs": []
    },
    {
      "cell_type": "markdown",
      "metadata": {
        "id": "oU3FM8C4IxXt",
        "colab_type": "text"
      },
      "source": [
        "Data preprocessing"
      ]
    },
    {
      "cell_type": "code",
      "metadata": {
        "id": "TaNEYGlxIiLM",
        "colab_type": "code",
        "colab": {}
      },
      "source": [
        "from tensorflow.keras.preprocessing.image import ImageDataGenerator"
      ],
      "execution_count": 72,
      "outputs": []
    },
    {
      "cell_type": "code",
      "metadata": {
        "id": "NVcV_HJ5JdWa",
        "colab_type": "code",
        "colab": {}
      },
      "source": [
        "train_datagen= ImageDataGenerator(rescale=1/255)"
      ],
      "execution_count": 73,
      "outputs": []
    },
    {
      "cell_type": "code",
      "metadata": {
        "id": "uHiU-ngvJm6Q",
        "colab_type": "code",
        "colab": {
          "base_uri": "https://localhost:8080/",
          "height": 34
        },
        "outputId": "41c9320a-3bd0-48f0-e1fc-61f1c665c166"
      },
      "source": [
        "train_generator= train_datagen.flow_from_directory('/tmp/horse-or-human/',\n",
        "      target_size=(128,128),\n",
        "      batch_size=128\n",
        "      ,class_mode = 'binary')"
      ],
      "execution_count": 100,
      "outputs": [
        {
          "output_type": "stream",
          "text": [
            "Found 1027 images belonging to 2 classes.\n"
          ],
          "name": "stdout"
        }
      ]
    },
    {
      "cell_type": "code",
      "metadata": {
        "id": "WQdDfiuCRFCH",
        "colab_type": "code",
        "colab": {}
      },
      "source": [
        "test_datagen =ImageDataGenerator(rescale=1/255)"
      ],
      "execution_count": 75,
      "outputs": []
    },
    {
      "cell_type": "code",
      "metadata": {
        "id": "NGJr47oNREwj",
        "colab_type": "code",
        "colab": {
          "base_uri": "https://localhost:8080/",
          "height": 34
        },
        "outputId": "ae39e487-41c7-4315-ad0a-7468bea50b25"
      },
      "source": [
        "test_generator= test_datagen.flow_from_directory('/tmp/validation-horse-or-human/',\n",
        "      target_size=(128,128),\n",
        "      batch_size=32\n",
        "      ,class_mode = 'binary')"
      ],
      "execution_count": 101,
      "outputs": [
        {
          "output_type": "stream",
          "text": [
            "Found 256 images belonging to 2 classes.\n"
          ],
          "name": "stdout"
        }
      ]
    },
    {
      "cell_type": "code",
      "metadata": {
        "id": "lqun9akDKYmK",
        "colab_type": "code",
        "colab": {
          "base_uri": "https://localhost:8080/",
          "height": 747
        },
        "outputId": "433ef976-b548-4f1d-d45c-7c98502bfae3"
      },
      "source": [
        "training = model.fit(train_generator,steps_per_epoch=8,\n",
        "                     epochs=20,verbose=1,\n",
        "                     validation_data = test_generator,\n",
        "                     validation_steps=8)\n",
        "                    "
      ],
      "execution_count": 125,
      "outputs": [
        {
          "output_type": "stream",
          "text": [
            "Epoch 1/20\n",
            "8/8 [==============================] - 7s 863ms/step - loss: 0.7340 - accuracy: 0.5306 - val_loss: 0.6904 - val_accuracy: 0.7539\n",
            "Epoch 2/20\n",
            "8/8 [==============================] - 6s 745ms/step - loss: 0.5619 - accuracy: 0.7720 - val_loss: 0.6746 - val_accuracy: 0.5312\n",
            "Epoch 3/20\n",
            "8/8 [==============================] - 6s 741ms/step - loss: 0.3363 - accuracy: 0.8699 - val_loss: 0.6019 - val_accuracy: 0.8906\n",
            "Epoch 4/20\n",
            "8/8 [==============================] - 6s 755ms/step - loss: 0.1966 - accuracy: 0.9088 - val_loss: 0.5541 - val_accuracy: 0.8594\n",
            "Epoch 5/20\n",
            "8/8 [==============================] - 6s 793ms/step - loss: 0.1645 - accuracy: 0.9326 - val_loss: 0.5254 - val_accuracy: 0.8711\n",
            "Epoch 6/20\n",
            "8/8 [==============================] - 6s 749ms/step - loss: 0.0960 - accuracy: 0.9611 - val_loss: 0.4834 - val_accuracy: 0.8984\n",
            "Epoch 7/20\n",
            "8/8 [==============================] - 6s 743ms/step - loss: 0.0480 - accuracy: 0.9878 - val_loss: 0.4401 - val_accuracy: 0.9180\n",
            "Epoch 8/20\n",
            "8/8 [==============================] - 6s 741ms/step - loss: 0.0373 - accuracy: 0.9844 - val_loss: 0.4210 - val_accuracy: 0.8672\n",
            "Epoch 9/20\n",
            "8/8 [==============================] - 7s 839ms/step - loss: 0.0214 - accuracy: 0.9933 - val_loss: 0.3787 - val_accuracy: 0.8984\n",
            "Epoch 10/20\n",
            "8/8 [==============================] - 6s 742ms/step - loss: 0.0088 - accuracy: 0.9989 - val_loss: 0.3371 - val_accuracy: 0.9219\n",
            "Epoch 11/20\n",
            "8/8 [==============================] - 6s 777ms/step - loss: 0.0105 - accuracy: 0.9980 - val_loss: 0.3355 - val_accuracy: 0.9023\n",
            "Epoch 12/20\n",
            "8/8 [==============================] - 6s 782ms/step - loss: 0.0069 - accuracy: 0.9980 - val_loss: 0.3986 - val_accuracy: 0.8320\n",
            "Epoch 13/20\n",
            "8/8 [==============================] - 6s 734ms/step - loss: 0.0038 - accuracy: 1.0000 - val_loss: 0.3732 - val_accuracy: 0.8359\n",
            "Epoch 14/20\n",
            "8/8 [==============================] - 6s 776ms/step - loss: 0.0018 - accuracy: 1.0000 - val_loss: 0.3384 - val_accuracy: 0.8516\n",
            "Epoch 15/20\n",
            "8/8 [==============================] - 6s 777ms/step - loss: 0.0012 - accuracy: 1.0000 - val_loss: 0.3265 - val_accuracy: 0.8594\n",
            "Epoch 16/20\n",
            "8/8 [==============================] - 6s 737ms/step - loss: 0.0011 - accuracy: 1.0000 - val_loss: 0.3161 - val_accuracy: 0.8672\n",
            "Epoch 17/20\n",
            "8/8 [==============================] - 6s 736ms/step - loss: 7.1114e-04 - accuracy: 1.0000 - val_loss: 0.3224 - val_accuracy: 0.8594\n",
            "Epoch 18/20\n",
            "8/8 [==============================] - 6s 735ms/step - loss: 0.0013 - accuracy: 1.0000 - val_loss: 0.3654 - val_accuracy: 0.8477\n",
            "Epoch 19/20\n",
            "8/8 [==============================] - 6s 740ms/step - loss: 0.0010 - accuracy: 1.0000 - val_loss: 0.3130 - val_accuracy: 0.8711\n",
            "Epoch 20/20\n",
            "8/8 [==============================] - 6s 733ms/step - loss: 0.0013 - accuracy: 1.0000 - val_loss: 0.3971 - val_accuracy: 0.8438\n"
          ],
          "name": "stdout"
        }
      ]
    },
    {
      "cell_type": "markdown",
      "metadata": {
        "id": "4VOl4jEgMkhg",
        "colab_type": "text"
      },
      "source": [
        "For predictions of your own images in colab"
      ]
    },
    {
      "cell_type": "code",
      "metadata": {
        "id": "zK-7f8hDLxVQ",
        "colab_type": "code",
        "colab": {}
      },
      "source": [
        "import numpy as np\n",
        "from google.colab import files\n",
        "from keras.preprocessing import image\n",
        "\n",
        "uploaded = files.upload()\n",
        "\n",
        "for fn in uploaded.keys():\n",
        " \n",
        "  # predicting images\n",
        "  path = '/content/' + fn\n",
        "  img = image.load_img(path, target_size=(300, 300))\n",
        "  x = image.img_to_array(img)\n",
        "  x = np.expand_dims(x, axis=0)\n",
        "\n",
        "  images = np.vstack([x])\n",
        "  classes = model.predict(images, batch_size=10)\n",
        "  print(classes[0])\n",
        "  if classes[0]>0.5:\n",
        "    print(fn + \" is a human\")\n",
        "  else:\n",
        "    print(fn + \" is a horse\")\n",
        " "
      ],
      "execution_count": null,
      "outputs": []
    },
    {
      "cell_type": "code",
      "metadata": {
        "id": "GyhEhUcbhRN0",
        "colab_type": "code",
        "colab": {}
      },
      "source": [
        "l = []"
      ],
      "execution_count": 119,
      "outputs": []
    },
    {
      "cell_type": "code",
      "metadata": {
        "id": "aUTXLDzRNOVu",
        "colab_type": "code",
        "colab": {
          "base_uri": "https://localhost:8080/",
          "height": 316
        },
        "outputId": "8419b101-d48c-458e-97d2-d649066c5786"
      },
      "source": [
        "import matplotlib.pyplot as plt\n",
        "acc = training.history['accuracy']\n",
        "val_acc = training.history['val_accuracy']\n",
        "loss = training.history['loss']\n",
        "val_loss = training.history['val_loss']\n",
        "l.append([acc[len(acc)-1],val_acc[len(val_acc)-1],loss[len(loss)-1],val_loss[len(val_loss)-1]])\n",
        "epochs = range(len(acc))\n",
        "\n",
        "plt.plot(epochs, acc, 'r', label='Training accuracy')\n",
        "plt.plot(epochs, val_acc, 'b', label='Validation accuracy')\n",
        "plt.ylim(bottom=0.8)\n",
        "plt.title('Training and validation accuracy')\n",
        "plt.legend(loc=0)\n",
        "plt.figure()"
      ],
      "execution_count": 126,
      "outputs": [
        {
          "output_type": "execute_result",
          "data": {
            "text/plain": [
              "<Figure size 432x288 with 0 Axes>"
            ]
          },
          "metadata": {
            "tags": []
          },
          "execution_count": 126
        },
        {
          "output_type": "display_data",
          "data": {
            "image/png": "[encoded data removed]",
            "text/plain": [
              "<Figure size 432x288 with 1 Axes>"
            ]
          },
          "metadata": {
            "tags": [],
            "needs_background": "light"
          }
        },
        {
          "output_type": "display_data",
          "data": {
            "text/plain": [
              "<Figure size 432x288 with 0 Axes>"
            ]
          },
          "metadata": {
            "tags": []
          }
        }
      ]
    },
    {
      "cell_type": "code",
      "metadata": {
        "id": "RWb8v4Q5VC6i",
        "colab_type": "code",
        "colab": {
          "base_uri": "https://localhost:8080/",
          "height": 52
        },
        "outputId": "f70bc092-692a-45af-8b3f-d68855f9b38e"
      },
      "source": [
        "#Run data on diff models\n",
        "l"
      ],
      "execution_count": 127,
      "outputs": [
        {
          "output_type": "execute_result",
          "data": {
            "text/plain": [
              "[[0.996662974357605, 0.8359375, 0.00926131010055542, 2.304487705230713],\n",
              " [1.0, 0.84375, 0.0012793604983016849, 0.3971453011035919]]"
            ]
          },
          "metadata": {
            "tags": []
          },
          "execution_count": 127
        }
      ]
    },
    {
      "cell_type": "code",
      "metadata": {
        "id": "SUnBd_EQhdgz",
        "colab_type": "code",
        "colab": {}
      },
      "source": [
        "trainPrediction = np.mean(acc)\n",
        "testPrediction = np.mean(val_acc)"
      ],
      "execution_count": 133,
      "outputs": []
    },
    {
      "cell_type": "code",
      "metadata": {
        "id": "y-t3d-z1kuZe",
        "colab_type": "code",
        "colab": {
          "base_uri": "https://localhost:8080/",
          "height": 52
        },
        "outputId": "0c0f8be6-5455-4108-aaa3-9c71fbfcea1d"
      },
      "source": [
        "print('Train average Accuracy : {}%'.format(trainPrediction*100))\n",
        "print('Validation average Accuracy : {}%'.format(testPrediction*100))"
      ],
      "execution_count": 138,
      "outputs": [
        {
          "output_type": "stream",
          "text": [
            "Train average Accuracy : 94.67692494392395%\n",
            "Validation average Accuracy : 84.90234375%\n"
          ],
          "name": "stdout"
        }
      ]
    },
    {
      "cell_type": "code",
      "metadata": {
        "id": "k-wml-PElUtZ",
        "colab_type": "code",
        "colab": {}
      },
      "source": [
        ""
      ],
      "execution_count": null,
      "outputs": []
    }
  ]
}