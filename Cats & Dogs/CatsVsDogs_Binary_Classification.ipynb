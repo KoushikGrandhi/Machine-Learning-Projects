{
  "nbformat": 4,
  "nbformat_minor": 0,
  "metadata": {
    "kernelspec": {
      "display_name": "Python 3",
      "language": "python",
      "name": "python3"
    },
    "language_info": {
      "codemirror_mode": {
        "name": "ipython",
        "version": 3
      },
      "file_extension": ".py",
      "mimetype": "text/x-python",
      "name": "python",
      "nbconvert_exporter": "python",
      "pygments_lexer": "ipython3",
      "version": "3.7.7"
    },
    "colab": {
      "name": "CatsVsDogs - Binary Classification.ipynb",
      "provenance": [],
      "collapsed_sections": []
    },
    "accelerator": "GPU"
  },
  "cells": [
    {
      "cell_type": "code",
      "metadata": {
        "id": "kzc6FnpMGoYa",
        "colab_type": "code",
        "colab": {
          "base_uri": "https://localhost:8080/",
          "height": 34
        },
        "outputId": "c02442a0-fe67-4131-c3bf-0cbe289a035c"
      },
      "source": [
        "from google.colab import drive\n",
        "drive.mount('/content/drive')"
      ],
      "execution_count": 18,
      "outputs": [
        {
          "output_type": "stream",
          "text": [
            "Mounted at /content/drive\n"
          ],
          "name": "stdout"
        }
      ]
    },
    {
      "cell_type": "code",
      "metadata": {
        "id": "NZIxuej1JZcJ",
        "colab_type": "code",
        "colab": {}
      },
      "source": [
        "import numpy as np\n",
        "from tensorflow import keras\n",
        "import pandas as pd\n",
        "from tensorflow.keras import layers\n",
        "from tensorflow.keras.preprocessing import image\n",
        "from sklearn.model_selection import train_test_split\n",
        "# K.set_image_data_format('channels_last')\n",
        "import matplotlib.pyplot as plt\n",
        "from matplotlib.pyplot import imshow\n",
        "import os\n",
        "from keras.preprocessing.image import ImageDataGenerator, load_img"
      ],
      "execution_count": 28,
      "outputs": []
    },
    {
      "cell_type": "code",
      "metadata": {
        "id": "FSYCp3BCDjIX",
        "colab_type": "code",
        "colab": {}
      },
      "source": [
        "import os\n",
        "import zipfile\n",
        "\n",
        "local_zip = '/content/drive/My Drive/Data sets and Links/CatsDogs.zip'\n",
        "\n",
        "zip_ref = zipfile.ZipFile(local_zip, 'r')\n",
        "\n",
        "zip_ref.extractall('/content')\n",
        "zip_ref.close()\n",
        "drive.flush_and_unmount()"
      ],
      "execution_count": null,
      "outputs": []
    },
    {
      "cell_type": "code",
      "metadata": {
        "id": "4G5zYQgvJZcO",
        "colab_type": "code",
        "colab": {
          "base_uri": "https://localhost:8080/",
          "height": 105
        },
        "outputId": "e9caf38d-3f56-4310-ddbe-fbcd3adabd15"
      },
      "source": [
        "\n",
        "train_dir= \"CatsDogs/train\"\n",
        "test_dir= \"CatsDogs/test1\"\n",
        "train_fileN= os.listdir(train_dir)\n",
        "test_fileN=os.listdir(test_dir)\n",
        "train_size= len([name for name in train_fileN])\n",
        "test_size = len([name for name in test_fileN])\n",
        "print (train_size)\n",
        "print(test_size)\n",
        "\n",
        "\n",
        "trainLabels=[]\n",
        "for fileN in train_fileN:\n",
        "    trainLabels.append(fileN.split('.')[0])\n",
        "testLabels=[]\n",
        "for fileN in test_fileN:\n",
        "    testLabels.append(fileN.split('.')[0])\n",
        "print(len(trainLabels),len(testLabels))\n",
        "\n",
        "trainDf= pd.DataFrame({\n",
        "    'id':train_fileN,\n",
        "    'labels':trainLabels\n",
        "}\n",
        "    )\n",
        "train_df, dev_df = train_test_split(trainDf,shuffle=True, test_size=0.10)\n",
        "train_datagen = image.ImageDataGenerator(    \n",
        "rotation_range=40,\n",
        "width_shift_range=0.2,\n",
        "height_shift_range=0.2,\n",
        "rescale=1./255.,\n",
        "shear_range=0.2,\n",
        "zoom_range=0.2,\n",
        "horizontal_flip=True,\n",
        "fill_mode='nearest'\n",
        ")\n",
        "dev_datagen  = image.ImageDataGenerator(rescale=1./255.)\n",
        "\n",
        "train_generator = train_datagen.flow_from_dataframe(\n",
        "train_df, \n",
        "train_dir, \n",
        "x_col='id',\n",
        "y_col='labels',\n",
        "target_size=(128, 128),\n",
        "class_mode='binary',\n",
        "batch_size=20\n",
        ")\n",
        "dev_generator = dev_datagen.flow_from_dataframe(\n",
        "dev_df, \n",
        "train_dir, \n",
        "x_col='id',\n",
        "y_col='labels',\n",
        "target_size=(128, 128),\n",
        "class_mode='binary',\n",
        "batch_size=20\n",
        ")\n",
        "        \n",
        "\n"
      ],
      "execution_count": 19,
      "outputs": [
        {
          "output_type": "stream",
          "text": [
            "25000\n",
            "12500\n",
            "25000 12500\n",
            "Found 22500 validated image filenames belonging to 2 classes.\n",
            "Found 2500 validated image filenames belonging to 2 classes.\n"
          ],
          "name": "stdout"
        }
      ]
    },
    {
      "cell_type": "code",
      "metadata": {
        "id": "dNV5W_MQQw_w",
        "colab_type": "code",
        "colab": {
          "base_uri": "https://localhost:8080/",
          "height": 34
        },
        "outputId": "6c74ab76-49de-4340-d36a-2b57715025eb"
      },
      "source": [
        "total_train = train_df.shape[0]\n",
        "total_validate = dev_df.shape[0]\n",
        "print(total_train, total_validate)"
      ],
      "execution_count": null,
      "outputs": [
        {
          "output_type": "stream",
          "text": [
            "22500 2500\n"
          ],
          "name": "stdout"
        }
      ]
    },
    {
      "cell_type": "code",
      "metadata": {
        "id": "a-vVbzYGJZcT",
        "colab_type": "code",
        "colab": {
          "base_uri": "https://localhost:8080/",
          "height": 763
        },
        "outputId": "73d7f0f8-ad08-43eb-90e2-e95a82da669a"
      },
      "source": [
        "model = keras.models.Sequential([\n",
        "    keras.layers.Conv2D(32, (3, 3),name = 'conv0',activation=\"relu\",input_shape=(128, 128, 3)),\n",
        "    keras.layers.BatchNormalization(name = 'bn0'),\n",
        "    keras.layers.MaxPooling2D((2, 2), name='max_pool'),\n",
        "    keras.layers.Dropout(0.25),\n",
        "\n",
        "    keras.layers.Conv2D(64, (3, 3), name = 'conv1',activation=\"relu\"),\n",
        "    keras.layers.BatchNormalization( name = 'bn01'),\n",
        "    keras.layers.MaxPooling2D((2, 2), name='max_pool1'),\n",
        "    keras.layers.Dropout(0.25),\n",
        "\n",
        "    keras.layers.Conv2D(128, (3, 3), name = 'conv3',activation=\"relu\"),\n",
        "    keras.layers.BatchNormalization(name = 'bn012'),\n",
        "    keras.layers.MaxPooling2D((2, 2), name='max_pool12'),\n",
        "    keras.layers.Dropout(0.3),\n",
        "  \n",
        "\n",
        "    keras.layers.Flatten(),\n",
        "    keras.layers.Dense(64, activation='relu', name='fc1'),\n",
        "    keras.layers.BatchNormalization( name = 'bn4'),\n",
        "    keras.layers.Dropout(0.5),\n",
        "    keras.layers.Dense(1, activation='sigmoid', name='fc')\n",
        "])\n",
        "model.summary()"
      ],
      "execution_count": 35,
      "outputs": [
        {
          "output_type": "stream",
          "text": [
            "Model: \"sequential_3\"\n",
            "_________________________________________________________________\n",
            "Layer (type)                 Output Shape              Param #   \n",
            "=================================================================\n",
            "conv0 (Conv2D)               (None, 126, 126, 32)      896       \n",
            "_________________________________________________________________\n",
            "bn0 (BatchNormalization)     (None, 126, 126, 32)      128       \n",
            "_________________________________________________________________\n",
            "max_pool (MaxPooling2D)      (None, 63, 63, 32)        0         \n",
            "_________________________________________________________________\n",
            "dropout_12 (Dropout)         (None, 63, 63, 32)        0         \n",
            "_________________________________________________________________\n",
            "conv1 (Conv2D)               (None, 61, 61, 64)        18496     \n",
            "_________________________________________________________________\n",
            "bn01 (BatchNormalization)    (None, 61, 61, 64)        256       \n",
            "_________________________________________________________________\n",
            "max_pool1 (MaxPooling2D)     (None, 30, 30, 64)        0         \n",
            "_________________________________________________________________\n",
            "dropout_13 (Dropout)         (None, 30, 30, 64)        0         \n",
            "_________________________________________________________________\n",
            "conv3 (Conv2D)               (None, 28, 28, 128)       73856     \n",
            "_________________________________________________________________\n",
            "bn012 (BatchNormalization)   (None, 28, 28, 128)       512       \n",
            "_________________________________________________________________\n",
            "max_pool12 (MaxPooling2D)    (None, 14, 14, 128)       0         \n",
            "_________________________________________________________________\n",
            "dropout_14 (Dropout)         (None, 14, 14, 128)       0         \n",
            "_________________________________________________________________\n",
            "flatten_3 (Flatten)          (None, 25088)             0         \n",
            "_________________________________________________________________\n",
            "fc1 (Dense)                  (None, 64)                1605696   \n",
            "_________________________________________________________________\n",
            "bn4 (BatchNormalization)     (None, 64)                256       \n",
            "_________________________________________________________________\n",
            "dropout_15 (Dropout)         (None, 64)                0         \n",
            "_________________________________________________________________\n",
            "fc (Dense)                   (None, 1)                 65        \n",
            "=================================================================\n",
            "Total params: 1,700,161\n",
            "Trainable params: 1,699,585\n",
            "Non-trainable params: 576\n",
            "_________________________________________________________________\n"
          ],
          "name": "stdout"
        }
      ]
    },
    {
      "cell_type": "code",
      "metadata": {
        "id": "3n7L6WUJJZcZ",
        "colab_type": "code",
        "colab": {}
      },
      "source": [
        "model.compile(keras.optimizers.RMSprop(),\"binary_crossentropy\",metrics=[\"accuracy\"])"
      ],
      "execution_count": 36,
      "outputs": []
    },
    {
      "cell_type": "markdown",
      "metadata": {
        "id": "0ocs36UhQThb",
        "colab_type": "text"
      },
      "source": [
        "**CallBacks**"
      ]
    },
    {
      "cell_type": "code",
      "metadata": {
        "id": "LtPZuG7zQRET",
        "colab_type": "code",
        "colab": {}
      },
      "source": [
        "from keras.callbacks import EarlyStopping, ReduceLROnPlateau"
      ],
      "execution_count": 22,
      "outputs": []
    },
    {
      "cell_type": "code",
      "metadata": {
        "id": "orZZE6ZgQZDS",
        "colab_type": "code",
        "colab": {}
      },
      "source": [
        "earlystop = EarlyStopping(patience=10)"
      ],
      "execution_count": 23,
      "outputs": []
    },
    {
      "cell_type": "code",
      "metadata": {
        "id": "jUZhum4bQfL2",
        "colab_type": "code",
        "colab": {}
      },
      "source": [
        "learning_rate_reduction = ReduceLROnPlateau(monitor='val_acc', \n",
        "                                            patience=2, \n",
        "                                            verbose=1, \n",
        "                                            factor=0.5, \n",
        "                                            min_lr=0.00001)"
      ],
      "execution_count": 24,
      "outputs": []
    },
    {
      "cell_type": "code",
      "metadata": {
        "id": "GPQw1SmFQhJx",
        "colab_type": "code",
        "colab": {}
      },
      "source": [
        "callbacks = [ learning_rate_reduction]"
      ],
      "execution_count": 25,
      "outputs": []
    },
    {
      "cell_type": "code",
      "metadata": {
        "id": "rHWC8ZC1JZcf",
        "colab_type": "code",
        "colab": {
          "base_uri": "https://localhost:8080/",
          "height": 392
        },
        "outputId": "82144e42-cae5-440e-d75e-75e938f3f03c"
      },
      "source": [
        "\n",
        "#fit\n",
        "VALID_FRACTION = 0.2\n",
        "batch_size = 20\n",
        "EPOCHS = 10\n",
        "history = model.fit(train_generator,\n",
        "    validation_data=dev_generator,\n",
        "  validation_steps=total_validate//batch_size,\n",
        "    steps_per_epoch=total_train//batch_size,\n",
        "    epochs=EPOCHS)\n",
        "#evaluate"
      ],
      "execution_count": 37,
      "outputs": [
        {
          "output_type": "stream",
          "text": [
            "Epoch 1/10\n",
            "1125/1125 [==============================] - 176s 157ms/step - loss: 0.6918 - accuracy: 0.6114 - val_loss: 0.5666 - val_accuracy: 0.7036\n",
            "Epoch 2/10\n",
            "1125/1125 [==============================] - 175s 156ms/step - loss: 0.5715 - accuracy: 0.7009 - val_loss: 0.5414 - val_accuracy: 0.7232\n",
            "Epoch 3/10\n",
            "1125/1125 [==============================] - 178s 158ms/step - loss: 0.5205 - accuracy: 0.7400 - val_loss: 0.5156 - val_accuracy: 0.7560\n",
            "Epoch 4/10\n",
            "1125/1125 [==============================] - 179s 159ms/step - loss: 0.4907 - accuracy: 0.7668 - val_loss: 0.4998 - val_accuracy: 0.7424\n",
            "Epoch 5/10\n",
            "1125/1125 [==============================] - 179s 159ms/step - loss: 0.4670 - accuracy: 0.7804 - val_loss: 0.4770 - val_accuracy: 0.7760\n",
            "Epoch 6/10\n",
            "1125/1125 [==============================] - 178s 159ms/step - loss: 0.4455 - accuracy: 0.7960 - val_loss: 0.3715 - val_accuracy: 0.8308\n",
            "Epoch 7/10\n",
            "1125/1125 [==============================] - 176s 157ms/step - loss: 0.4333 - accuracy: 0.8008 - val_loss: 0.6020 - val_accuracy: 0.7196\n",
            "Epoch 8/10\n",
            "1125/1125 [==============================] - 175s 156ms/step - loss: 0.4178 - accuracy: 0.8088 - val_loss: 1.5162 - val_accuracy: 0.6116\n",
            "Epoch 9/10\n",
            "1125/1125 [==============================] - 177s 157ms/step - loss: 0.4102 - accuracy: 0.8148 - val_loss: 0.4326 - val_accuracy: 0.8156\n",
            "Epoch 10/10\n",
            "1125/1125 [==============================] - 177s 157ms/step - loss: 0.4043 - accuracy: 0.8177 - val_loss: 0.3366 - val_accuracy: 0.8616\n"
          ],
          "name": "stdout"
        }
      ]
    },
    {
      "cell_type": "code",
      "metadata": {
        "id": "lRccUCqzdKXf",
        "colab_type": "code",
        "colab": {
          "base_uri": "https://localhost:8080/",
          "height": 562
        },
        "outputId": "7caef6b3-57ac-411c-89a7-5095eaa06507"
      },
      "source": [
        "#-----------------------------------------------------------\n",
        "# Retrieve a list of list results on training and test data\n",
        "# sets for each training epoch\n",
        "#-----------------------------------------------------------\n",
        "\n",
        "acc      = history.history[     'accuracy' ]\n",
        "val_acc  = history.history[ 'val_accuracy' ]\n",
        "loss     = history.history[    'loss' ]\n",
        "val_loss = history.history['val_loss' ]\n",
        "d.append([acc[-1],val_acc[-1],loss[-1],val_loss[-1]])\n",
        "epochs   = range(len(acc)) # Get number of epochs\n",
        "\n",
        "#------------------------------------------------\n",
        "# Plot training and validation accuracy per epoch\n",
        "#------------------------------------------------\n",
        "plt.plot  ( epochs,     acc )\n",
        "plt.plot  ( epochs, val_acc )\n",
        "plt.title ('Training and validation accuracy')\n",
        "plt.figure()\n",
        "\n",
        "#------------------------------------------------\n",
        "# Plot training and validation loss per epoch\n",
        "#------------------------------------------------\n",
        "plt.plot  ( epochs,     loss )\n",
        "plt.plot  ( epochs, val_loss )\n",
        "plt.title ('Training and validation loss'   )"
      ],
      "execution_count": 39,
      "outputs": [
        {
          "output_type": "execute_result",
          "data": {
            "text/plain": [
              "Text(0.5, 1.0, 'Training and validation loss')"
            ]
          },
          "metadata": {
            "tags": []
          },
          "execution_count": 39
        },
        {
          "output_type": "display_data",
          "data": {
            "image/png": "[encoded data removed]",
            "text/plain": [
              "<Figure size 432x288 with 1 Axes>"
            ]
          },
          "metadata": {
            "tags": [],
            "needs_background": "light"
          }
        },
        {
          "output_type": "display_data",
          "data": {
            "image/png": "[encoded data removed]",
            "text/plain": [
              "<Figure size 432x288 with 1 Axes>"
            ]
          },
          "metadata": {
            "tags": [],
            "needs_background": "light"
          }
        }
      ]
    },
    {
      "cell_type": "code",
      "metadata": {
        "id": "lathTGBnO6T1",
        "colab_type": "code",
        "colab": {
          "base_uri": "https://localhost:8080/",
          "height": 34
        },
        "outputId": "7e14cf9d-2b2a-40a9-d93a-f0a23655b624"
      },
      "source": [
        "print(np.mean(val_acc))"
      ],
      "execution_count": null,
      "outputs": [
        {
          "output_type": "stream",
          "text": [
            "0.7380400002002716\n"
          ],
          "name": "stdout"
        }
      ]
    },
    {
      "cell_type": "code",
      "metadata": {
        "id": "GAtz7YTiR64H",
        "colab_type": "code",
        "colab": {}
      },
      "source": [
        "model.save('10Epoch85VAcc.h5')"
      ],
      "execution_count": 34,
      "outputs": []
    },
    {
      "cell_type": "code",
      "metadata": {
        "id": "4xTu2pSJYguj",
        "colab_type": "code",
        "colab": {
          "base_uri": "https://localhost:8080/",
          "height": 54
        },
        "outputId": "70f5b29f-e915-4e20-f75e-653db8d0db47"
      },
      "source": [
        "print(keras.models.load_model('2EpochGood'))"
      ],
      "execution_count": null,
      "outputs": [
        {
          "output_type": "stream",
          "text": [
            "<tensorflow.python.keras.engine.sequential.Sequential object at 0x7feb8e391e80>\n"
          ],
          "name": "stdout"
        }
      ]
    },
    {
      "cell_type": "code",
      "metadata": {
        "id": "-ExoWd7pZH9k",
        "colab_type": "code",
        "colab": {
          "base_uri": "https://localhost:8080/",
          "height": 158
        },
        "outputId": "6f986ec6-4b1f-42e0-c1ef-fc3b65d873df"
      },
      "source": [
        "d\n"
      ],
      "execution_count": 40,
      "outputs": [
        {
          "output_type": "execute_result",
          "data": {
            "text/plain": [
              "[[0.8261333107948303,\n",
              "  0.864799976348877,\n",
              "  0.3878205716609955,\n",
              "  0.3228969871997833],\n",
              " [0.8176888823509216,\n",
              "  0.8615999817848206,\n",
              "  0.40434929728507996,\n",
              "  0.336611270904541]]"
            ]
          },
          "metadata": {
            "tags": []
          },
          "execution_count": 40
        }
      ]
    },
    {
      "cell_type": "code",
      "metadata": {
        "id": "bU8z-LEXZge6",
        "colab_type": "code",
        "colab": {}
      },
      "source": [
        "test_filenames = os.listdir(\"CatsDogs/test1\")\n",
        "test_df = pd.DataFrame({\n",
        "    'filename': test_filenames\n",
        "})\n",
        "nb_samples = test_df.shape[0]"
      ],
      "execution_count": 41,
      "outputs": []
    },
    {
      "cell_type": "code",
      "metadata": {
        "id": "XnNmX3yLZ6Hs",
        "colab_type": "code",
        "colab": {
          "base_uri": "https://localhost:8080/",
          "height": 34
        },
        "outputId": "46cb69fc-ec01-45a1-f8eb-426b55e6b151"
      },
      "source": [
        "test_gen = ImageDataGenerator(rescale=1./255)\n",
        "test_generator = test_gen.flow_from_dataframe(\n",
        "    test_df, \n",
        "    \"CatsDogs/test1\", \n",
        "    x_col='filename',\n",
        "    y_col=None,\n",
        "    class_mode=None,\n",
        "    target_size=(128,128),\n",
        "    batch_size=20,\n",
        "    shuffle=False\n",
        ")"
      ],
      "execution_count": 47,
      "outputs": [
        {
          "output_type": "stream",
          "text": [
            "Found 12500 validated image filenames.\n"
          ],
          "name": "stdout"
        }
      ]
    },
    {
      "cell_type": "code",
      "metadata": {
        "id": "Ep9CmU-w8xNY",
        "colab_type": "code",
        "colab": {
          "base_uri": "https://localhost:8080/",
          "height": 90
        },
        "outputId": "e8ee1935-b130-47be-fd01-d6c95676b31a"
      },
      "source": [
        "predict = model.predict_generator(test_generator, steps=np.ceil(nb_samples/batch_size))"
      ],
      "execution_count": 46,
      "outputs": [
        {
          "output_type": "stream",
          "text": [
            "WARNING:tensorflow:From <ipython-input-46-52619fd72ccc>:1: Model.predict_generator (from tensorflow.python.keras.engine.training) is deprecated and will be removed in a future version.\n",
            "Instructions for updating:\n",
            "Please use Model.predict, which supports generators.\n"
          ],
          "name": "stdout"
        }
      ]
    },
    {
      "cell_type": "code",
      "metadata": {
        "id": "hIMrDkTW9D94",
        "colab_type": "code",
        "colab": {
          "base_uri": "https://localhost:8080/",
          "height": 34
        },
        "outputId": "2ac6f541-e5a8-4aae-b3c2-de60df128942"
      },
      "source": [
        "type(predict)"
      ],
      "execution_count": 61,
      "outputs": [
        {
          "output_type": "execute_result",
          "data": {
            "text/plain": [
              "numpy.ndarray"
            ]
          },
          "metadata": {
            "tags": []
          },
          "execution_count": 61
        }
      ]
    },
    {
      "cell_type": "code",
      "metadata": {
        "id": "ULQBxkEJHHmr",
        "colab_type": "code",
        "colab": {}
      },
      "source": [
        "predicted_val = [int(round(p[0])) for p in predict]\n"
      ],
      "execution_count": 64,
      "outputs": []
    },
    {
      "cell_type": "code",
      "metadata": {
        "id": "gDhTDyToLFwz",
        "colab_type": "code",
        "colab": {}
      },
      "source": [
        "test_df['Result']=predicted_val "
      ],
      "execution_count": 66,
      "outputs": []
    },
    {
      "cell_type": "code",
      "metadata": {
        "id": "ElhQGdzIR-TG",
        "colab_type": "code",
        "colab": {}
      },
      "source": [
        "test_df.to_csv(\"submission.csv\", index=False)"
      ],
      "execution_count": 69,
      "outputs": []
    },
    {
      "cell_type": "code",
      "metadata": {
        "id": "RXk8tePcSB_z",
        "colab_type": "code",
        "colab": {
          "base_uri": "https://localhost:8080/",
          "height": 280
        },
        "outputId": "9229b3f2-e0e8-4500-f820-c68a2ed1ccd1"
      },
      "source": [
        "# 0 - Cat\n",
        "#1-Dog\n",
        "test_df['Result'].value_counts().plot.bar()\n"
      ],
      "execution_count": 78,
      "outputs": [
        {
          "output_type": "execute_result",
          "data": {
            "text/plain": [
              "<matplotlib.axes._subplots.AxesSubplot at 0x7f059a24b198>"
            ]
          },
          "metadata": {
            "tags": []
          },
          "execution_count": 78
        },
        {
          "output_type": "display_data",
          "data": {
            "image/png": "[encoded data removed]",
            "text/plain": [
              "<Figure size 432x288 with 1 Axes>"
            ]
          },
          "metadata": {
            "tags": [],
            "needs_background": "light"
          }
        }
      ]
    },
    {
      "cell_type": "code",
      "metadata": {
        "id": "8B_gHaTfZOnQ",
        "colab_type": "code",
        "colab": {
          "base_uri": "https://localhost:8080/",
          "height": 70
        },
        "outputId": "f3c34ecb-f8c1-4bd7-dd4b-1219a6e04191"
      },
      "source": [
        "test_df['Result'].value_counts()"
      ],
      "execution_count": 77,
      "outputs": [
        {
          "output_type": "execute_result",
          "data": {
            "text/plain": [
              "0    7017\n",
              "1    5483\n",
              "Name: Result, dtype: int64"
            ]
          },
          "metadata": {
            "tags": []
          },
          "execution_count": 77
        }
      ]
    },
    {
      "cell_type": "code",
      "metadata": {
        "id": "4pm8u4tBaI4m",
        "colab_type": "code",
        "colab": {}
      },
      "source": [
        "#dogs are wrongly classified as cats\n",
        "#add features\n",
        "#shuffle Training and dev sets"
      ],
      "execution_count": null,
      "outputs": []
    }
  ]
}