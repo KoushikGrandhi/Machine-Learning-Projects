{
  "nbformat": 4,
  "nbformat_minor": 0,
  "metadata": {
    "colab": {
      "name": "MLPA1_Final.ipynb",
      "provenance": [],
      "collapsed_sections": []
    },
    "kernelspec": {
      "name": "python3",
      "display_name": "Python 3"
    }
  },
  "cells": [
    {
      "cell_type": "code",
      "metadata": {
        "id": "P1tMjowMnEUg"
      },
      "source": [
        "import numpy as np\n",
        "# intialize global variables\n",
        "chosenAttrValPairs = []\n",
        "entropyY = 0"
      ],
      "execution_count": 1,
      "outputs": []
    },
    {
      "cell_type": "code",
      "metadata": {
        "id": "Mz8rkSsXoW7L"
      },
      "source": [
        "def partition(x):\n",
        "    # Partition the column vector x into subsets indexed by its unique values\n",
        "\n",
        "    d = dict()\n",
        "    UniqueX = np.unique(x)\n",
        "    for i in UniqueX:\n",
        "      # print(i)\n",
        "      arr = np.where(x==i)[0]\n",
        "      d[i] = arr\n",
        "    return d\n",
        "    raise Exception('Function not yet implemented!')"
      ],
      "execution_count": 2,
      "outputs": []
    },
    {
      "cell_type": "code",
      "metadata": {
        "id": "oHsIghEvoW4N"
      },
      "source": [
        "def entropy(y):\n",
        "    \n",
        "    # Compute the entropy of a vector y by considering the counts of the unique values , in z\n",
        "\n",
        "    z,z_count = np.unique(y,return_counts=True)\n",
        "    total = np.size(y)\n",
        "    h_entropy=0\n",
        "    for i in range(0,len(z)):\n",
        "      h_entropy+=(np.true_divide(z_count[i],total)) * np.log2(np.true_divide(z_count[i],total))\n",
        "      # print(i,h_entropy)\n",
        " \n",
        "    return -h_entropy\n",
        "    raise Exception('Function not yet implemented!')"
      ],
      "execution_count": 3,
      "outputs": []
    },
    {
      "cell_type": "code",
      "metadata": {
        "id": "TuvNhJOuoW1Y"
      },
      "source": [
        "def mutual_information(x, y, xIndex):\n",
        "    # Returns the mutual information: I(x, y) = H(y) - H(y | x)\n",
        "    \n",
        "    mi_dict_vx=dict()\n",
        "    x_unique,x_counts = np.unique(x,return_counts=True)\n",
        "    # loop through unique vals of the given column\n",
        "    for v in x_unique:\n",
        "      if [xIndex,v] not in chosenAttrValPairs:   # attribute-value pair not selected in previous splits\n",
        "          y_v = y[np.where(x==v)]\n",
        "          y_notv= y[np.where(x!=v)]\n",
        "          mi_dict_vx[v] = entropyY -(np.true_divide(len(y_v),len(y))*entropy(y_v) + np.true_divide(len(y_notv),len(y))*entropy(y_notv))\n",
        "      else:\n",
        "          mi_dict_vx[v] = float('-inf')  \n",
        "    return mi_dict_vx\n",
        "    \n",
        "    raise Exception('Function not yet implemented!')"
      ],
      "execution_count": 4,
      "outputs": []
    },
    {
      "cell_type": "code",
      "metadata": {
        "id": "QtyVHLkkoWtQ"
      },
      "source": [
        "def id3(x, y, attribute_value_pairs=None, depth=0, max_depth=3):\n",
        "    \"\"\"\n",
        "    Implements the classical ID3 algorithm given training data (x), training labels (y) and an array of\n",
        "    attribute-value pairs to consider. \n",
        "    \"\"\"\n",
        " \n",
        "     \n",
        "    if depth == 0:\n",
        "      attribute_value_pairs =[]\n",
        "      for i in range(len(x[1,:])):\n",
        "        x_unique = np.unique(x[:,i])\n",
        "        for j in x_unique:\n",
        "          attribute_value_pairs.append((i,j))\n",
        " \n",
        "    #print(attribute_value_pairs)\n",
        "    #print(chosenAttrValPairs)\n",
        " \n",
        "    DT= dict()\n",
        " \n",
        "    if len(np.unique(y))==1 :          # pure label\n",
        "      # print(\"case 1: pure label\\nreturning y=\",np.unique(y)[0])    \n",
        "      return np.unique(y)[0]\n",
        " \n",
        "    if len(attribute_value_pairs) == 0:  # attribute-value pairs exhausted\n",
        "      # print(\"case 2: attribute-value pairs exhausted\\nreturning y=\",np.bincount(y).argmax())\n",
        "      return np.bincount(y).argmax()\n",
        "      \n",
        "    if depth >= max_depth:             # max allowed depth reached\n",
        "      # print(\"case 3: max-depth \",max_depth,\" reached\\nreturning y=\",np.bincount(y).argmax())\n",
        "      return np.bincount(y).argmax()\n",
        " \n",
        "    #call partitions on all the attributes of x - loop on x cols - Get featurewise value indices and add the op dicts into a partitionlist\n",
        "    partitionList=[]\n",
        "    mi_dict_x = []\n",
        "    for i in range(len(x[1,:])): #len(x[1,:]) = 6\n",
        "    #for i in (attribute_value_pairs):\n",
        "      partitionList.append(partition(x[:,i]))\n",
        "      # calculate Mutual Information\n",
        "      #print(\"MI for col \",i,mutual_information(x[:,i],y,i))\n",
        "      mi_dict_x.append(mutual_information(x[:,i],y,i))\n",
        " \n",
        "    max_value = max([max(list(i.values())) for i in mi_dict_x ]) # extract the maximum information gain\n",
        "    if(max_value == float('-inf')):                              # no more information gain obtained\n",
        "        return np.bincount(y).argmax();                          # return majority label\n",
        " \n",
        "    for i in mi_dict_x:\n",
        "       v= list(i.values())\n",
        "       k=list(i.keys())\n",
        "       if(max_value in v):\n",
        "         attriValue = k[v.index(max_value)] # pick the attribute corresponding to max_info_gain\n",
        "         attriIndex = mi_dict_x.index(i)    # pick the attribute corresponding to max_info_gain\n",
        "    \"\"\" # print attribute-value pair with maax info gain\n",
        "    print(\"max_value: \",max_value)\n",
        "    print(\"attriIndex :\",attriIndex)\n",
        "    print(\"attriValue: \",attriValue) \"\"\"\n",
        "    temp = partitionList[attriIndex]\n",
        "    #print(\"Tree depth =>\",depth)\n",
        "    \n",
        "    # prepare the X,Y tables to be passed on children nodes based on current split\n",
        "    x1 = np.delete(x,np.where(x[:,attriIndex]==attriValue),axis=0)\n",
        "    y1 = np.delete(y,np.where(x[:,attriIndex]==attriValue),axis=0)\n",
        "    x2 = np.delete(x,np.where(x[:,attriIndex]!=attriValue),axis=0)\n",
        "    y2 = np.delete(y,np.where(x[:,attriIndex]!=attriValue),axis=0)\n",
        "   \n",
        "    # remove attribute-value pair for the current split from the remaining pairs\n",
        "    attribute_value_pairs.remove((attriIndex,attriValue))\n",
        " \n",
        "    # add attribute-value pair for the current split to the already selected pairs\n",
        "    chosenAttrValPairs.append([attriIndex,attriValue])\n",
        " \n",
        "    # call id3 recursively on children nodes i.e. true-false branch\n",
        "    if(x1.size != 0):\n",
        "        DT[(attriIndex,attriValue,False)] = id3(x1,y1,attribute_value_pairs,depth=depth+1,max_depth=max_depth)\n",
        "    if(x2.size != 0):   \n",
        "        DT[(attriIndex,attriValue,True)] = id3(x2,y2,attribute_value_pairs,depth=depth+1,max_depth=max_depth)\n",
        " \n",
        "    return DT\n",
        " \n",
        "    # raise Exception('Function not yet implemented!')"
      ],
      "execution_count": 5,
      "outputs": []
    },
    {
      "cell_type": "code",
      "metadata": {
        "id": "S_2yArXQotDQ"
      },
      "source": [
        "def predict_example(x, tree):\n",
        "    # Returns the predicted label of x according to tree\n",
        "    #tree existence\n",
        "    if (tree==0 or tree==1 or not tree):\n",
        "        return tree\n",
        "    node = list(tree.keys())[0]\n",
        "    #print(\"node\",node)\n",
        "    \n",
        "    if(x[node[0]]==node[1]):\n",
        "        return predict_example(x, tree.get((node[0], node[1], True)))\n",
        "    else:\n",
        "        return predict_example(x, tree.get((node[0], node [1], False)))\n",
        "    raise Exception('Function not yet implemented!')"
      ],
      "execution_count": 6,
      "outputs": []
    },
    {
      "cell_type": "code",
      "metadata": {
        "id": "WO1byJFyotBI"
      },
      "source": [
        "def compute_error(y_true, y_pred):\n",
        "    # Computes the average error between the true labels (y_true) and the predicted labels (y_pred)\n",
        "  \n",
        "    return (np.true_divide(1,len(y_true)) * sum(y_true != y_pred))\n",
        "    raise Exception('Function not yet implemented!')"
      ],
      "execution_count": 7,
      "outputs": []
    },
    {
      "cell_type": "code",
      "metadata": {
        "id": "KgDqsiq1oWd6",
        "colab": {
          "base_uri": "https://localhost:8080/"
        },
        "outputId": "59e7ade0-9416-44e4-ded1-7a5e26bf78b6"
      },
      "source": [
        "def visualize(tree, depth=0):\n",
        "    # To visualize the tree in the console.\n",
        "\n",
        "\n",
        "    if depth == 0:\n",
        "        print('TREE')\n",
        "\n",
        "    for index, split_criterion in enumerate(tree):\n",
        "        sub_trees = tree[split_criterion]\n",
        "\n",
        "        # Print the current node: split criterion\n",
        "        print('|\\t' * depth, end='')\n",
        "        print('+-- [SPLIT: x{0} = {1}]'.format(split_criterion[0], split_criterion[1]))\n",
        "\n",
        "        # Print the children\n",
        "        if type(sub_trees) is dict:\n",
        "            visualize(sub_trees, depth + 1)\n",
        "        else:\n",
        "            print('|\\t' * (depth + 1), end='')\n",
        "            print('+-- [LABEL = {0}]'.format(sub_trees))\n",
        "\n",
        "\n",
        "if __name__ == '__main__':\n",
        "    # Load the training data\n",
        "    M = np.genfromtxt('./monks-1.train', missing_values=0, skip_header=0, delimiter=',', dtype=int)\n",
        "    ytrn = M[:, 0]\n",
        "    Xtrn = M[:, 1:]\n",
        "\n",
        "    # Load the test data\n",
        "    M = np.genfromtxt('./monks-1.test', missing_values=0, skip_header=0, delimiter=',', dtype=int)\n",
        "    ytst = M[:, 0]\n",
        "    Xtst = M[:, 1:]\n",
        "\n",
        "    # Learn a decision tree of depth 3\n",
        "    decision_tree = id3(Xtrn, ytrn, max_depth=3)\n",
        "    visualize(decision_tree)\n",
        "\n",
        "    # Compute the test error\n",
        "    y_pred = [predict_example(x, decision_tree) for x in Xtst]\n",
        "    tst_err = compute_error(ytst, y_pred)\n",
        "\n",
        "    print('Test Error = {0:4.2f}%.'.format(tst_err * 100))\n"
      ],
      "execution_count": 8,
      "outputs": [
        {
          "output_type": "stream",
          "text": [
            "TREE\n",
            "+-- [SPLIT: x4 = 1]\n",
            "|\t+-- [SPLIT: x0 = 1]\n",
            "|\t|\t+-- [SPLIT: x1 = 1]\n",
            "|\t|\t|\t+-- [LABEL = 1]\n",
            "|\t|\t+-- [SPLIT: x1 = 1]\n",
            "|\t|\t|\t+-- [LABEL = 0]\n",
            "|\t+-- [SPLIT: x0 = 1]\n",
            "|\t|\t+-- [SPLIT: x1 = 3]\n",
            "|\t|\t|\t+-- [LABEL = 0]\n",
            "|\t|\t+-- [SPLIT: x1 = 3]\n",
            "|\t|\t|\t+-- [LABEL = 0]\n",
            "+-- [SPLIT: x4 = 1]\n",
            "|\t+-- [LABEL = 1]\n",
            "Test Error = 25.00%.\n"
          ],
          "name": "stdout"
        }
      ]
    },
    {
      "cell_type": "code",
      "metadata": {
        "colab": {
          "base_uri": "https://localhost:8080/",
          "height": 452
        },
        "id": "g1QEY4XoOYVX",
        "outputId": "e0a363f4-ed15-46ab-a565-bcd40ac66b3b"
      },
      "source": [
        "import matplotlib.pyplot as plt\n",
        " \n",
        "test_errorArr=[]\n",
        "depthArr=[]\n",
        "chosenAttrValPairs = []\n",
        "entropyY = 0\n",
        "def get_errors_depths():  \n",
        "  #returns error rate for differnt max_depths of tree : Proofs Occam's razor principle \n",
        "   M = np.genfromtxt('/content/monks-1.train', missing_values=0, skip_header=0, delimiter=',', dtype=int)\n",
        "   M = np.genfromtxt('/content/monks-1.test', missing_values=0, skip_header=0, delimiter=',', dtype=int)\n",
        " \n",
        "   for i in range(1,11):\n",
        "    \n",
        "    chosenAttrValPairs = []\n",
        "    entropyY = 0\n",
        "    # Load the training data\n",
        " \n",
        "    ytrn = M[:, 0]\n",
        "    Xtrn = M[:, 1:]\n",
        " \n",
        "    # Load the test data\n",
        "    \n",
        "    ytst = M[:, 0]\n",
        "    Xtst = M[:, 1:]\n",
        " \n",
        "    # Calculate initial entropy of labels Y\n",
        "    entropyY = entropy(ytrn)\n",
        "    #print(\"Entropy Y: \",entropyY)\n",
        " \n",
        "    # Learn a decision tree of depth 3\n",
        "    decision_tree = id3(Xtrn, ytrn,max_depth=i)\n",
        "    # visualize(decision_tree)\n",
        "    #print(decision_tree)\n",
        " \n",
        "    # Compute the test error\n",
        "    y_pred = [predict_example(x, decision_tree) for x in Xtst]\n",
        "    tst_err = compute_error(ytst, y_pred)\n",
        "    test_errorArr.append(tst_err * 100)\n",
        "    depthArr.append(i)\n",
        "    print('Test Error = {0:4.2f}%.'.format(tst_err * 100), \"depth \",i)\n",
        "\n",
        "get_errors_depths()\n",
        "plt.plot(depthArr,test_errorArr)\n"
      ],
      "execution_count": 9,
      "outputs": [
        {
          "output_type": "stream",
          "text": [
            "Test Error = 25.00%. depth  1\n",
            "Test Error = 33.33%. depth  2\n",
            "Test Error = 33.33%. depth  3\n",
            "Test Error = 38.89%. depth  4\n",
            "Test Error = 50.00%. depth  5\n",
            "Test Error = 50.00%. depth  6\n",
            "Test Error = 50.00%. depth  7\n",
            "Test Error = 50.00%. depth  8\n",
            "Test Error = 50.00%. depth  9\n",
            "Test Error = 50.00%. depth  10\n"
          ],
          "name": "stdout"
        },
        {
          "output_type": "execute_result",
          "data": {
            "text/plain": [
              "[<matplotlib.lines.Line2D at 0x7f905450fc50>]"
            ]
          },
          "metadata": {
            "tags": []
          },
          "execution_count": 9
        },
        {
          "output_type": "display_data",
          "data": {
            "image/png": "[encoded data removed]",
            "text/plain": [
              "<Figure size 432x288 with 1 Axes>"
            ]
          },
          "metadata": {
            "tags": [],
            "needs_background": "light"
          }
        }
      ]
    },
    {
      "cell_type": "code",
      "metadata": {
        "id": "ja2uKa9H07ou"
      },
      "source": [
        "from sklearn.tree import DecisionTreeClassifier\n",
        "from sklearn.tree import export_graphviz\n",
        "from sklearn.tree import plot_tree\n",
        "from sklearn.metrics import confusion_matrix\n",
        "import graphviz \n",
        "\n",
        "def tree_classifier(X_train,Y_train,X_test,Y_test,monks1_DS=True):\n",
        "  # Uses sklearn DTClassifier to create the tree\n",
        "  if(monks1_DS==True):\n",
        "    M = np.genfromtxt('/content/monks-1.train', missing_values=0, skip_header=0, delimiter=',', dtype=int)\n",
        "    M = np.genfromtxt('/content/monks-1.test', missing_values=0, skip_header=0, delimiter=',', dtype=int)\n",
        "    # Load the training data\n",
        "    ytrn = M[:, 0]\n",
        "    Xtrn = M[:, 1:]\n",
        "    # Load the test data\n",
        "    ytst = M[:, 0]\n",
        "    Xtst = M[:, 1:]\n",
        "  #getting really big tree if not altering default parameters of max_depth\n",
        "  else:\n",
        "    Xtrn=X_train\n",
        "    ytrn=Y_train\n",
        "    ytst=Y_test\n",
        "    Xtst=X_test\n",
        "  clf = DecisionTreeClassifier()\n",
        "  clf = clf.fit(Xtrn,ytrn)\n",
        "  y_pred = clf.predict(Xtst)\n",
        "  print(\"Confusion Matrix with default sklearn DT classifier \")\n",
        "  print(confusion_matrix(ytst, y_pred))\n",
        "  plot_tree(clf) \n",
        "  dot_data = export_graphviz(clf, out_file=None) \n",
        "  g= graphviz.Source(dot_data)\n",
        "  g.format= \"png\"\n",
        "  g.view()\n",
        "  print(\"tree_classifier ended.\")"
      ],
      "execution_count": 10,
      "outputs": []
    },
    {
      "cell_type": "code",
      "metadata": {
        "colab": {
          "base_uri": "https://localhost:8080/",
          "height": 316
        },
        "id": "e6ghmFU7yDXZ",
        "outputId": "a4a2921d-d921-4560-d2f0-02294158b569"
      },
      "source": [
        "M = np.genfromtxt('/content/monks-1.train', missing_values=0, skip_header=0, delimiter=',', dtype=int)\n",
        "M = np.genfromtxt('/content/monks-1.test', missing_values=0, skip_header=0, delimiter=',', dtype=int)\n",
        "    \n",
        "# Load the training data\n",
        "ytrn = M[:, 0]\n",
        "Xtrn = M[:, 1:]\n",
        "# Load the test data\n",
        "ytst = M[:, 0]\n",
        "Xtst = M[:, 1:]\n",
        "tree_classifier(Xtrn,ytrn,Xtst,ytst,monks1_DS=True)"
      ],
      "execution_count": 11,
      "outputs": [
        {
          "output_type": "stream",
          "text": [
            "Confusion Matrix with default sklearn DT classifier \n",
            "[[216   0]\n",
            " [  0 216]]\n",
            "tree_classifier ended.\n"
          ],
          "name": "stdout"
        },
        {
          "output_type": "display_data",
          "data": {
            "image/png": "[encoded data removed]",
            "text/plain": [
              "<Figure size 432x288 with 1 Axes>"
            ]
          },
          "metadata": {
            "tags": [],
            "needs_background": "light"
          }
        }
      ]
    },
    {
      "cell_type": "code",
      "metadata": {
        "colab": {
          "base_uri": "https://localhost:8080/",
          "height": 367
        },
        "id": "Pmx7Z9xNRQlV",
        "outputId": "48048268-629b-4f46-915b-8fbae303d717"
      },
      "source": [
        "from sklearn.metrics import confusion_matrix\n",
        "#Comparing results of our ID3 algo with sklearns\n",
        "def get_new_dataset_matrix(dataset_name=\"/content/mushroom\"): \n",
        "  M = np.genfromtxt(dataset_name+'.train', missing_values=0, skip_header=0, delimiter=',', dtype=int)\n",
        "  M = np.genfromtxt(dataset_name+'.test', missing_values=0, skip_header=0, delimiter=',', dtype=int)\n",
        "  # Load the training data\n",
        "  ytrn = M[:, 0]\n",
        "  Xtrn = M[:, 1:]\n",
        "  # Load the test data\n",
        "  ytst = M[:, 0]\n",
        "  Xtst = M[:, 1:]\n",
        "  # print(np.shape(ytrn))\n",
        "  decision_tree = id3(Xtrn, ytrn,max_depth=3)\n",
        "  #print(decision_tree)\n",
        "  y_pred = [predict_example(x, decision_tree) for x in Xtst]\n",
        "  print(\"Confusion Matrix on new dataset name with id3:\")\n",
        "  print(confusion_matrix(ytst, y_pred))\n",
        "  tst_err = compute_error(ytst, y_pred)\n",
        "  # print(tst_err * 100)\n",
        "  # Load the training data\n",
        "  ytrn = M[:, 0]\n",
        "  Xtrn = M[:, 1:]\n",
        "  # Load the test data\n",
        "  ytst = M[:, 0]\n",
        "  Xtst = M[:, 1:]\n",
        "  tree_classifier(Xtrn,ytrn,Xtst,ytst,monks1_DS=False)\n",
        "\n",
        "get_new_dataset_matrix()"
      ],
      "execution_count": 12,
      "outputs": [
        {
          "output_type": "stream",
          "text": [
            "Confusion Matrix on new dataset name with id3:\n",
            "[[1185    2]\n",
            " [ 117  727]]\n",
            "Confusion Matrix with default sklearn DT classifier \n",
            "[[1187    0]\n",
            " [   0  844]]\n",
            "tree_classifier ended.\n"
          ],
          "name": "stdout"
        },
        {
          "output_type": "display_data",
          "data": {
            "image/png": "[encoded data removed]",
            "text/plain": [
              "<Figure size 432x288 with 1 Axes>"
            ]
          },
          "metadata": {
            "tags": [],
            "needs_background": "light"
          }
        }
      ]
    },
    {
      "cell_type": "code",
      "metadata": {
        "id": "cbYIY_bjalPp"
      },
      "source": [
        "def inbuilt_tree_classifier(monks1):\n",
        "  # Trying on different Data set for comparision\n",
        "    filename=\"\"\n",
        "    if(monks1== False):\n",
        "        filename= \"Mushroom\"\n",
        "        M = np.genfromtxt('./mushroom.train', missing_values=0, skip_header=0, delimiter=',', dtype=int)\n",
        "        M = np.genfromtxt('./mushroom.test', missing_values=0, skip_header=0, delimiter=',', dtype=int)\n",
        "    else:\n",
        "        filename= \"Monks-1\"\n",
        "        M = np.genfromtxt('./monks-1.train', missing_values=0, skip_header=0, delimiter=',', dtype=int)\n",
        "        M = np.genfromtxt('./monks-1.test', missing_values=0, skip_header=0, delimiter=',', dtype=int)\n",
        "    \n",
        "    # Load the training data\n",
        "    ytrn = M[:, 0]\n",
        "    Xtrn = M[:, 1:]\n",
        "    # Load the test data\n",
        "    ytst = M[:, 0]\n",
        "    Xtst = M[:, 1:]\n",
        "  #getting really big tree if not altering default parameters of max_depth\n",
        "    clf = DecisionTreeClassifier()\n",
        "    clf = clf.fit(Xtrn,ytrn)\n",
        "    y_pred = clf.predict(Xtst)\n",
        "    print(\"Confusion Matrix with default sklearn DT classifier on \"+ filename+\" dataset. \")\n",
        "    print(confusion_matrix(ytst, y_pred))\n",
        "    decision_tree = id3(Xtrn, ytrn,max_depth=3)\n",
        "    #print(decision_tree)\n",
        "    y_pred = [predict_example(x, decision_tree) for x in Xtst]\n",
        "    print(\"Confusion Matrix on \"+ filename+\" with id3 with depth 3 :\")\n",
        "    print(confusion_matrix(ytst, y_pred))\n",
        "    #plotting tree on graphviz\n",
        "    plot_tree(clf)\n",
        "    dot_data = export_graphviz(clf, out_file=None)\n",
        "    g= graphviz.Source(dot_data)\n",
        "    g.format = \"png\"\n",
        "    g.render(filename)\n",
        "    print(\"inbuilt_tree_classifier ended.\")"
      ],
      "execution_count": 17,
      "outputs": []
    },
    {
      "cell_type": "code",
      "metadata": {
        "id": "6ujqiFEKo7PV",
        "colab": {
          "base_uri": "https://localhost:8080/",
          "height": 367
        },
        "outputId": "de943f45-ab61-4fe6-deff-fa7251974088"
      },
      "source": [
        "inbuilt_tree_classifier(False)"
      ],
      "execution_count": 16,
      "outputs": [
        {
          "output_type": "stream",
          "text": [
            "Confusion Matrix with default sklearn DT classifier on Mushroom dataset. \n",
            "[[1187    0]\n",
            " [   0  844]]\n",
            "Confusion Matrix on Mushroom with id3 with depth 3 :\n",
            "[[1005  182]\n",
            " [  12  832]]\n",
            "inbuilt_tree_classifier ended.\n"
          ],
          "name": "stdout"
        },
        {
          "output_type": "display_data",
          "data": {
            "image/png": "[encoded data removed]",
            "text/plain": [
              "<Figure size 432x288 with 1 Axes>"
            ]
          },
          "metadata": {
            "tags": [],
            "needs_background": "light"
          }
        }
      ]
    },
    {
      "cell_type": "code",
      "metadata": {
        "id": "TRcOa06to-wi"
      },
      "source": [
        ""
      ],
      "execution_count": null,
      "outputs": []
    }
  ]
}