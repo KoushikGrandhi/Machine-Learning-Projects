{
  "nbformat": 4,
  "nbformat_minor": 0,
  "metadata": {
    "colab": {
      "name": "Fashion MNIST",
      "provenance": [],
      "collapsed_sections": []
    },
    "kernelspec": {
      "name": "python3",
      "display_name": "Python 3"
    },
    "accelerator": "GPU"
  },
  "cells": [
    {
      "cell_type": "code",
      "metadata": {
        "id": "6teop-QLvoCE",
        "colab_type": "code",
        "colab": {
          "base_uri": "https://localhost:8080/",
          "height": 34
        },
        "outputId": "49b0debf-401c-4e00-96f1-b3bcb491b587"
      },
      "source": [
        "import tensorflow as tf\n",
        "import keras"
      ],
      "execution_count": 1,
      "outputs": [
        {
          "output_type": "stream",
          "text": [
            "Using TensorFlow backend.\n"
          ],
          "name": "stderr"
        }
      ]
    },
    {
      "cell_type": "code",
      "metadata": {
        "id": "YxfRN16BvYPh",
        "colab_type": "code",
        "colab": {}
      },
      "source": [
        "fashion_mnist= tf.keras.datasets.fashion_mnist"
      ],
      "execution_count": 2,
      "outputs": []
    },
    {
      "cell_type": "code",
      "metadata": {
        "id": "KUhlYM9-vec8",
        "colab_type": "code",
        "colab": {
          "base_uri": "https://localhost:8080/",
          "height": 178
        },
        "outputId": "7d5bf230-e44f-48ba-9f8a-18bd8452814f"
      },
      "source": [
        "(train_x , train_y),(test_x, test_y) = fashion_mnist.load_data()"
      ],
      "execution_count": 3,
      "outputs": [
        {
          "output_type": "stream",
          "text": [
            "Downloading data from https://storage.googleapis.com/tensorflow/tf-keras-datasets/train-labels-idx1-ubyte.gz\n",
            "32768/29515 [=================================] - 0s 0us/step\n",
            "Downloading data from https://storage.googleapis.com/tensorflow/tf-keras-datasets/train-images-idx3-ubyte.gz\n",
            "26427392/26421880 [==============================] - 0s 0us/step\n",
            "Downloading data from https://storage.googleapis.com/tensorflow/tf-keras-datasets/t10k-labels-idx1-ubyte.gz\n",
            "8192/5148 [===============================================] - 0s 0us/step\n",
            "Downloading data from https://storage.googleapis.com/tensorflow/tf-keras-datasets/t10k-images-idx3-ubyte.gz\n",
            "4423680/4422102 [==============================] - 0s 0us/step\n"
          ],
          "name": "stdout"
        }
      ]
    },
    {
      "cell_type": "code",
      "metadata": {
        "id": "7cVv_uPgyxcq",
        "colab_type": "code",
        "colab": {}
      },
      "source": [
        "train_x= train_x/255.0\n",
        "test_x=test_x/255.0"
      ],
      "execution_count": 4,
      "outputs": []
    },
    {
      "cell_type": "markdown",
      "metadata": {
        "id": "LF7uoyHBD6lc",
        "colab_type": "text"
      },
      "source": [
        "Simple Sequential model"
      ]
    },
    {
      "cell_type": "code",
      "metadata": {
        "id": "jDNJo69Gv8eK",
        "colab_type": "code",
        "colab": {}
      },
      "source": [
        "model = keras.models.Sequential([\n",
        "    keras.layers.Flatten(input_shape = (28,28)),\n",
        "    keras.layers.Dense(units=1024,activation=tf.nn.relu),\n",
        "    keras.layers.Dense(units= 10,activation=tf.nn.softmax)\n",
        "])"
      ],
      "execution_count": 5,
      "outputs": []
    },
    {
      "cell_type": "code",
      "metadata": {
        "id": "2aigHUb2xa-f",
        "colab_type": "code",
        "colab": {}
      },
      "source": [
        "model.compile(optimizer=tf.optimizers.Adam(),loss='sparse_categorical_crossentropy',metrics=['accuracy'])"
      ],
      "execution_count": 56,
      "outputs": []
    },
    {
      "cell_type": "code",
      "metadata": {
        "id": "3fOoKW3rz1-w",
        "colab_type": "code",
        "colab": {
          "base_uri": "https://localhost:8080/",
          "height": 125
        },
        "outputId": "7d5f1a76-7d1b-4ed3-beae-d3eab12c08f1"
      },
      "source": [
        "model.fit(train_x,train_y,epochs=2,callbacks=[callbacks])"
      ],
      "execution_count": 58,
      "outputs": [
        {
          "output_type": "stream",
          "text": [
            "Epoch 1/2\n",
            "60000/60000 [==============================] - 13s 212us/step - loss: 0.2865 - accuracy: 0.8934\n",
            "Epoch 2/2\n",
            "60000/60000 [==============================] - 14s 226us/step - loss: 0.2711 - accuracy: 0.8992\n"
          ],
          "name": "stdout"
        },
        {
          "output_type": "execute_result",
          "data": {
            "text/plain": [
              "<keras.callbacks.callbacks.History at 0x7f354045f7f0>"
            ]
          },
          "metadata": {
            "tags": []
          },
          "execution_count": 58
        }
      ]
    },
    {
      "cell_type": "code",
      "metadata": {
        "id": "eifrGFZN0BcG",
        "colab_type": "code",
        "colab": {
          "base_uri": "https://localhost:8080/",
          "height": 52
        },
        "outputId": "dc3fe284-0b6a-464e-ba9c-becbffc9639c"
      },
      "source": [
        "model.evaluate(test_x,test_y)"
      ],
      "execution_count": 59,
      "outputs": [
        {
          "output_type": "stream",
          "text": [
            "10000/10000 [==============================] - 1s 78us/step\n"
          ],
          "name": "stdout"
        },
        {
          "output_type": "execute_result",
          "data": {
            "text/plain": [
              "[0.33931798900961874, 0.8754000067710876]"
            ]
          },
          "metadata": {
            "tags": []
          },
          "execution_count": 59
        }
      ]
    },
    {
      "cell_type": "code",
      "metadata": {
        "id": "C1pBNxMl9h9t",
        "colab_type": "code",
        "colab": {}
      },
      "source": [
        "import numpy as np"
      ],
      "execution_count": 60,
      "outputs": []
    },
    {
      "cell_type": "code",
      "metadata": {
        "id": "Ckx7XVFf1Blf",
        "colab_type": "code",
        "colab": {
          "base_uri": "https://localhost:8080/",
          "height": 52
        },
        "outputId": "0091fe41-0fde-493c-d88b-ac911c543ff5"
      },
      "source": [
        "classifications = model.predict(test_x)\n",
        "index = np.argmax(classifications[0], axis=0)\n",
        "print(index)\n",
        "print(len(classifications))"
      ],
      "execution_count": 63,
      "outputs": [
        {
          "output_type": "stream",
          "text": [
            "9\n",
            "10000\n"
          ],
          "name": "stdout"
        }
      ]
    },
    {
      "cell_type": "code",
      "metadata": {
        "id": "A8vxYJYK1lpm",
        "colab_type": "code",
        "colab": {
          "base_uri": "https://localhost:8080/",
          "height": 34
        },
        "outputId": "692591e5-2991-4778-d043-0c159f2005b8"
      },
      "source": [
        "print(test_y[0])"
      ],
      "execution_count": null,
      "outputs": [
        {
          "output_type": "stream",
          "text": [
            "9\n"
          ],
          "name": "stdout"
        }
      ]
    },
    {
      "cell_type": "code",
      "metadata": {
        "id": "g9nrZm_K1wCz",
        "colab_type": "code",
        "colab": {}
      },
      "source": [
        "class myCallback(tf.keras.callbacks.Callback):\n",
        "  def on_epoch_end(self, epoch, logs={}):\n",
        "    if(logs.get('loss')<0.2):\n",
        "      print(\"\\nReached 80% accuracy so cancelling training!\")\n",
        "      self.model.stop_training = True\n",
        "callbacks= myCallback()"
      ],
      "execution_count": 6,
      "outputs": []
    },
    {
      "cell_type": "markdown",
      "metadata": {
        "id": "c9BNvFW4RcGO",
        "colab_type": "text"
      },
      "source": [
        "Using Conv layer- Reshaping the input is required as the first layers in Conv :  because the first convolution expects a single tensor containing everything, so instead of 60,000 28x28x1 items in a list, we have a single 4D list that is 60,000x28x28x1"
      ]
    },
    {
      "cell_type": "code",
      "metadata": {
        "id": "dLaxz5FFRbaa",
        "colab_type": "code",
        "colab": {}
      },
      "source": [
        "(training_images, training_labels), (test_images, test_labels) = fashion_mnist.load_data()\n",
        "\n",
        "training_images=training_images.reshape(60000, 28, 28, 1)\n",
        "training_images=training_images / 255.0\n",
        "test_images = test_images.reshape(10000, 28, 28, 1)\n",
        "test_images=test_images/255.0"
      ],
      "execution_count": 11,
      "outputs": []
    },
    {
      "cell_type": "code",
      "metadata": {
        "id": "JlNWhp5T5yxq",
        "colab_type": "code",
        "colab": {
          "base_uri": "https://localhost:8080/",
          "height": 514
        },
        "outputId": "ef7a2bae-afbe-44c9-fb6d-eb9dd37ab977"
      },
      "source": [
        "model1= keras.models.Sequential([\n",
        "        \n",
        "        keras.layers.Conv2D(64,(3,3),activation='relu',input_shape=(28,28,1) ),\n",
        "        keras.layers.MaxPool2D(2,2),\n",
        "        keras.layers.Dropout(0.25),\n",
        "        keras.layers.Conv2D(128,(3,3),activation='relu',input_shape=(28,28,1) ),\n",
        "        keras.layers.MaxPool2D(2,2),\n",
        "        keras.layers.Dropout(0.25),\n",
        "        keras.layers.BatchNormalization(),\n",
        "        keras.layers.Flatten(),\n",
        "        keras.layers.Dense(128,activation='relu'),\n",
        "        keras.layers.Dense(10,activation='softmax')\n",
        "\n",
        "])\n",
        "model1.summary()"
      ],
      "execution_count": 16,
      "outputs": [
        {
          "output_type": "stream",
          "text": [
            "Model: \"sequential_3\"\n",
            "_________________________________________________________________\n",
            "Layer (type)                 Output Shape              Param #   \n",
            "=================================================================\n",
            "conv2d_3 (Conv2D)            (None, 26, 26, 64)        640       \n",
            "_________________________________________________________________\n",
            "max_pooling2d_3 (MaxPooling2 (None, 13, 13, 64)        0         \n",
            "_________________________________________________________________\n",
            "dropout_2 (Dropout)          (None, 13, 13, 64)        0         \n",
            "_________________________________________________________________\n",
            "conv2d_4 (Conv2D)            (None, 11, 11, 128)       73856     \n",
            "_________________________________________________________________\n",
            "max_pooling2d_4 (MaxPooling2 (None, 5, 5, 128)         0         \n",
            "_________________________________________________________________\n",
            "dropout_3 (Dropout)          (None, 5, 5, 128)         0         \n",
            "_________________________________________________________________\n",
            "batch_normalization_2 (Batch (None, 5, 5, 128)         512       \n",
            "_________________________________________________________________\n",
            "flatten_3 (Flatten)          (None, 3200)              0         \n",
            "_________________________________________________________________\n",
            "dense_5 (Dense)              (None, 128)               409728    \n",
            "_________________________________________________________________\n",
            "dense_6 (Dense)              (None, 10)                1290      \n",
            "=================================================================\n",
            "Total params: 486,026\n",
            "Trainable params: 485,770\n",
            "Non-trainable params: 256\n",
            "_________________________________________________________________\n"
          ],
          "name": "stdout"
        }
      ]
    },
    {
      "cell_type": "code",
      "metadata": {
        "id": "_F_sf5psRTgQ",
        "colab_type": "code",
        "colab": {}
      },
      "source": [
        "model1.compile(optimizer='adam', loss='sparse_categorical_crossentropy',metrics=['accuracy'])"
      ],
      "execution_count": 17,
      "outputs": []
    },
    {
      "cell_type": "code",
      "metadata": {
        "id": "zKIYiL1RSNZw",
        "colab_type": "code",
        "colab": {
          "base_uri": "https://localhost:8080/",
          "height": 943
        },
        "outputId": "59edc9b7-320b-46c7-bbfd-fda52ee402ef"
      },
      "source": [
        "model1.fit(training_images,training_labels,epochs=25)"
      ],
      "execution_count": 26,
      "outputs": [
        {
          "output_type": "stream",
          "text": [
            "Epoch 1/25\n",
            "60000/60000 [==============================] - 25s 414us/step - loss: 0.1609 - accuracy: 0.9374\n",
            "Epoch 2/25\n",
            "60000/60000 [==============================] - 24s 406us/step - loss: 0.1540 - accuracy: 0.9415\n",
            "Epoch 3/25\n",
            "60000/60000 [==============================] - 24s 407us/step - loss: 0.1475 - accuracy: 0.9433\n",
            "Epoch 4/25\n",
            "60000/60000 [==============================] - 24s 407us/step - loss: 0.1408 - accuracy: 0.9461\n",
            "Epoch 5/25\n",
            "60000/60000 [==============================] - 24s 405us/step - loss: 0.1373 - accuracy: 0.9477\n",
            "Epoch 6/25\n",
            "60000/60000 [==============================] - 24s 406us/step - loss: 0.1293 - accuracy: 0.9498\n",
            "Epoch 7/25\n",
            "60000/60000 [==============================] - 24s 407us/step - loss: 0.1284 - accuracy: 0.9509\n",
            "Epoch 8/25\n",
            "60000/60000 [==============================] - 24s 406us/step - loss: 0.1197 - accuracy: 0.9536\n",
            "Epoch 9/25\n",
            "60000/60000 [==============================] - 24s 394us/step - loss: 0.1162 - accuracy: 0.9564\n",
            "Epoch 10/25\n",
            "60000/60000 [==============================] - 24s 394us/step - loss: 0.1139 - accuracy: 0.9570\n",
            "Epoch 11/25\n",
            "60000/60000 [==============================] - 24s 399us/step - loss: 0.1119 - accuracy: 0.9581\n",
            "Epoch 12/25\n",
            "60000/60000 [==============================] - 24s 399us/step - loss: 0.1052 - accuracy: 0.9599\n",
            "Epoch 13/25\n",
            "60000/60000 [==============================] - 24s 402us/step - loss: 0.1035 - accuracy: 0.9605\n",
            "Epoch 14/25\n",
            "60000/60000 [==============================] - 24s 402us/step - loss: 0.0984 - accuracy: 0.9621\n",
            "Epoch 15/25\n",
            "60000/60000 [==============================] - 24s 401us/step - loss: 0.0985 - accuracy: 0.9627\n",
            "Epoch 16/25\n",
            "60000/60000 [==============================] - 24s 402us/step - loss: 0.0951 - accuracy: 0.9638\n",
            "Epoch 17/25\n",
            "60000/60000 [==============================] - 24s 405us/step - loss: 0.0928 - accuracy: 0.9643\n",
            "Epoch 18/25\n",
            "60000/60000 [==============================] - 24s 403us/step - loss: 0.0877 - accuracy: 0.9668\n",
            "Epoch 19/25\n",
            "60000/60000 [==============================] - 24s 404us/step - loss: 0.0892 - accuracy: 0.9667\n",
            "Epoch 20/25\n",
            "60000/60000 [==============================] - 24s 408us/step - loss: 0.0863 - accuracy: 0.9676\n",
            "Epoch 21/25\n",
            "60000/60000 [==============================] - 24s 404us/step - loss: 0.0843 - accuracy: 0.9687\n",
            "Epoch 22/25\n",
            "60000/60000 [==============================] - 24s 403us/step - loss: 0.0804 - accuracy: 0.9697\n",
            "Epoch 23/25\n",
            "60000/60000 [==============================] - 24s 403us/step - loss: 0.0791 - accuracy: 0.9707\n",
            "Epoch 24/25\n",
            "60000/60000 [==============================] - 24s 405us/step - loss: 0.0776 - accuracy: 0.9703\n",
            "Epoch 25/25\n",
            "60000/60000 [==============================] - 24s 408us/step - loss: 0.0775 - accuracy: 0.9712\n"
          ],
          "name": "stdout"
        },
        {
          "output_type": "execute_result",
          "data": {
            "text/plain": [
              "<keras.callbacks.callbacks.History at 0x7f0841284e10>"
            ]
          },
          "metadata": {
            "tags": []
          },
          "execution_count": 26
        }
      ]
    },
    {
      "cell_type": "code",
      "metadata": {
        "id": "7J4e5ZDYSaUx",
        "colab_type": "code",
        "colab": {
          "base_uri": "https://localhost:8080/",
          "height": 52
        },
        "outputId": "061b55ea-ce92-4509-b284-3d4d9298f0fd"
      },
      "source": [
        "_, testacc = model1.evaluate(test_images,test_labels)\n",
        "testacc"
      ],
      "execution_count": 27,
      "outputs": [
        {
          "output_type": "stream",
          "text": [
            "10000/10000 [==============================] - 1s 143us/step\n"
          ],
          "name": "stdout"
        },
        {
          "output_type": "execute_result",
          "data": {
            "text/plain": [
              "0.9161999821662903"
            ]
          },
          "metadata": {
            "tags": []
          },
          "execution_count": 27
        }
      ]
    },
    {
      "cell_type": "code",
      "metadata": {
        "id": "8qdKhYs6cXmO",
        "colab_type": "code",
        "colab": {
          "base_uri": "https://localhost:8080/",
          "height": 52
        },
        "outputId": "8187d5aa-e5ff-4096-d105-b9c5fdb89bbe"
      },
      "source": [
        "_, trainacc= model1.evaluate(training_images,training_labels)\n",
        "trainacc"
      ],
      "execution_count": 28,
      "outputs": [
        {
          "output_type": "stream",
          "text": [
            "60000/60000 [==============================] - 9s 148us/step\n"
          ],
          "name": "stdout"
        },
        {
          "output_type": "execute_result",
          "data": {
            "text/plain": [
              "0.9894000291824341"
            ]
          },
          "metadata": {
            "tags": []
          },
          "execution_count": 28
        }
      ]
    },
    {
      "cell_type": "code",
      "metadata": {
        "id": "0r_SF1fTck1D",
        "colab_type": "code",
        "colab": {}
      },
      "source": [
        "results.append('128, 2Dropout, Epochs 25, '+str(trainacc)+','+str(testacc))"
      ],
      "execution_count": 29,
      "outputs": []
    },
    {
      "cell_type": "code",
      "metadata": {
        "id": "WF4uetSYc1Ug",
        "colab_type": "code",
        "colab": {
          "base_uri": "https://localhost:8080/",
          "height": 52
        },
        "outputId": "6a457c30-6b02-4258-ba0d-6f9746042a43"
      },
      "source": [
        "\n",
        "results"
      ],
      "execution_count": 30,
      "outputs": [
        {
          "output_type": "execute_result",
          "data": {
            "text/plain": [
              "['128, 1Dropout, Epochs 25, 0.9540500044822693, 0.98',\n",
              " '128, 2Dropout, Epochs 25, 0.9894000291824341,0.9161999821662903']"
            ]
          },
          "metadata": {
            "tags": []
          },
          "execution_count": 30
        }
      ]
    },
    {
      "cell_type": "code",
      "metadata": {
        "id": "u3qoOXjUch_3",
        "colab_type": "code",
        "colab": {}
      },
      "source": [
        "results =[]"
      ],
      "execution_count": 21,
      "outputs": []
    },
    {
      "cell_type": "code",
      "metadata": {
        "id": "Uq0v64dad3a3",
        "colab_type": "code",
        "colab": {}
      },
      "source": [
        ""
      ],
      "execution_count": null,
      "outputs": []
    }
  ]
}